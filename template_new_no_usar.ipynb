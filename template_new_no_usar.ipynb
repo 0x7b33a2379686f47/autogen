{
  "nbformat": 4,
  "nbformat_minor": 0,
  "metadata": {
    "colab": {
      "private_outputs": true,
      "provenance": [],
      "machine_shape": "hm",
      "gpuType": "V100",
      "authorship_tag": "ABX9TyPvi3cybUxVVk5ZBVnpfTOk",
      "include_colab_link": true
    },
    "kernelspec": {
      "name": "python3",
      "display_name": "Python 3"
    },
    "language_info": {
      "name": "python"
    },
    "accelerator": "GPU"
  },
  "cells": [
    {
      "cell_type": "markdown",
      "metadata": {
        "id": "view-in-github",
        "colab_type": "text"
      },
      "source": [
        "<a href=\"https://colab.research.google.com/github/0x7b33a2379686f47/autogen/blob/main/template_new_no_usar.ipynb\" target=\"_parent\"><img src=\"https://colab.research.google.com/assets/colab-badge.svg\" alt=\"Open In Colab\"/></a>"
      ]
    },
    {
      "cell_type": "markdown",
      "source": [
        "## drive_mounting_v0.0.5\n"
      ],
      "metadata": {
        "id": "9gnaHk0gqBLE"
      }
    },
    {
      "cell_type": "code",
      "source": [
        "from google.colab import drive\n",
        "drive.mount('/content/drive')"
      ],
      "metadata": {
        "id": "9E_s9frjz5fY"
      },
      "execution_count": null,
      "outputs": []
    },
    {
      "cell_type": "code",
      "execution_count": null,
      "metadata": {
        "cellView": "code",
        "id": "JItyOytDl64I"
      },
      "outputs": [],
      "source": [
        "json = {\n",
        "    \"instance_name\": \"hackgpt\",\n",
        "    \"drive_base\": \"/volumes/drive/Shareddrives/disk0/\",\n",
        "    \"mount_paths\": [\n",
        "        \"/content\",\n",
        "        \"/root/.ssh\",\n",
        "        \"/root/.ollama\",\n",
        "        \"/root/.cache/huggingface\",\n",
        "        \"/root/.vs-code-server\"\n",
        "    ]\n",
        "}\n",
        "\n",
        "# Import necessary libraries\n",
        "import os\n",
        "import shutil\n",
        "import json\n",
        "from google.colab import drive\n",
        "\n",
        "# Configuration file path\n",
        "config_file_path = '/volumes/drive/Shareddrives/disk0/hackgpt01.json'\n",
        "\n",
        "# Load configurations from the .config file\n",
        "with open(config_file_path, 'r') as config_file:\n",
        "    config = json.load(config_file)\n",
        "\n",
        "# Extract variables from the config file\n",
        "instance_name = config['instance_name']\n",
        "drive_base = config['drive_base']\n",
        "mount_paths = config['mount_paths']\n",
        "\n",
        "# Change to the root directory\n",
        "%cd {drive_base}\n",
        "\n",
        "# Unmount any previous Drive mounts\n",
        "drive.flush_and_unmount()\n",
        "\n",
        "# Drive base refresh\n",
        "if not os.path.exists(drive_base):\n",
        "    try:\n",
        "        os.makedirs(drive_base)\n",
        "    except OSError as e:\n",
        "        print(f\"Error: Unable to create directory {drive_base}. {e}\")\n",
        "\n",
        "# Shared drive path\n",
        "shared_drive_path = f'{drive_base}{instance_name}'\n",
        "\n",
        "# Mount Google Drive directly to the shared drive path\n",
        "drive.mount(drive_base, force_remount=True)\n",
        "\n",
        "# Iterate over mount paths and manage symbolic links\n",
        "for path in mount_paths:\n",
        "    original_path = f'/{path}'\n",
        "    temp_path = os.path.join(shared_drive_path, path)\n",
        "\n",
        "    # Remove existing symbolic link or directory\n",
        "    if os.path.islink(original_path) or os.path.exists(original_path):\n",
        "        if os.path.isdir(original_path) and not os.path.islink(original_path):\n",
        "            shutil.rmtree(original_path)\n",
        "        else:\n",
        "            os.unlink(original_path)\n",
        "\n",
        "    # Create target path in Drive if it does not exist\n",
        "    if not os.path.exists(temp_path):\n",
        "        try:\n",
        "            os.makedirs(temp_path)\n",
        "        except OSError as e:\n",
        "            print(f\"Error: Unable to create directory {temp_path}. {e}\")\n",
        "\n",
        "    # Create a new symbolic link\n",
        "    os.symlink(temp_path, original_path)\n",
        "\n",
        "    # Create and write to the .linked file in the target path\n",
        "    linked_file_path = os.path.join(temp_path, '.linked')\n",
        "    with open(linked_file_path, 'w') as linked_file:\n",
        "        linked_file.write(original_path)\n",
        "\n",
        "# Change to the content directory (/)\n",
        "%cd /content\n"
      ]
    },
    {
      "cell_type": "code",
      "execution_count": null,
      "metadata": {
        "id": "S264q7RbrQ3L"
      },
      "outputs": [],
      "source": [
        "\n"
      ]
    },
    {
      "cell_type": "markdown",
      "source": [
        "## Argo SSH"
      ],
      "metadata": {
        "id": "qcrVpjurqGnZ"
      }
    },
    {
      "cell_type": "code",
      "execution_count": null,
      "metadata": {
        "cellView": "form",
        "id": "APWwNDsJZYSA"
      },
      "outputs": [],
      "source": [
        "\n",
        "%cd /content\n",
        "!chmod +x cloudflared\n",
        "!pip -q install colab_ssh\n",
        "from colab_ssh import launch_ssh_cloudflared\n",
        "passwd=\"asdasd\" #@param\n",
        "launch_ssh_cloudflared(password=passwd)"
      ]
    }
  ]
}