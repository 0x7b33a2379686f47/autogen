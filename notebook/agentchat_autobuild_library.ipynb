{
 "cells": [
  {
   "cell_type": "markdown",
   "source": [
    "# AutoBuild from Library\n",
    "\n",
    "By: [Linxin Song](https://linxins97.github.io/), [Jieyu Zhang](https://jieyuz2.github.io/)\n",
    "\n",
    "In this notebook, we introduce a new feature for AutoBuild, `build_from_library`, which help users build an automatic task-solving process powered by a multi-agent system from a pre-defined agent library. \n",
    "Specifically, in `build_from_library`, we prompt an LLM to explore useful agents from a pre-defined agent library, generating configurations for those agents for a group chat to solve the user's task."
   ],
   "metadata": {
    "collapsed": false
   },
   "id": "6264276d39875995"
  },
  {
   "cell_type": "markdown",
   "id": "ec78dda8e3826d8a",
   "metadata": {
    "collapsed": false
   },
   "source": [
    "## Requirement\n",
    "\n",
    "AutoBuild require `pyautogen~=0.2.2`, which can be installed by the following command:"
   ]
  },
  {
   "cell_type": "code",
   "execution_count": null,
   "id": "e8e9ae50658be975",
   "metadata": {
    "collapsed": false
   },
   "outputs": [],
   "source": [
    "!pip install pyautogen"
   ]
  },
  {
   "cell_type": "markdown",
   "source": [
    "## Preparation and useful tools\n",
    "We need to specify a `config_path`, `default_llm_config` that include backbone LLM configurations."
   ],
   "metadata": {
    "collapsed": false
   },
   "id": "176c200804af63f3"
  },
  {
   "cell_type": "code",
   "execution_count": 1,
   "id": "2505f029423b21ab",
   "metadata": {
    "collapsed": false,
    "ExecuteTime": {
     "end_time": "2023-12-23T07:39:01.211024200Z",
     "start_time": "2023-12-23T07:39:01.204506400Z"
    }
   },
   "outputs": [],
   "source": [
    "import autogen\n",
    "\n",
    "\n",
    "config_path = 'OAI_CONFIG_LIST'  # modify path\n",
    "default_llm_config = {\n",
    "    'temperature': 0\n",
    "}\n",
    "def start_task(execution_task: str, agent_list: list, llm_config: dict):\n",
    "    config_list = autogen.config_list_from_json(config_path, filter_dict={\"model\": [\"gpt-4-1106-preview\"]})\n",
    "    \n",
    "    group_chat = autogen.GroupChat(agents=agent_list, messages=[], max_round=12)\n",
    "    manager = autogen.GroupChatManager(\n",
    "        groupchat=group_chat, llm_config={\"config_list\": config_list, **llm_config}\n",
    "    )\n",
    "    agent_list[0].initiate_chat(manager, message=execution_task)"
   ]
  },
  {
   "cell_type": "markdown",
   "source": [
    "## Example for generating an agent library\n",
    "Here, we show an example of generating an agent library from a pre-defined list of agents' names by prompting a `gpt-4`. You can also prepare a handcraft library yourself.\n",
    "\n",
    "A Library contains each agent's name and profile. The profile is a brief introduction about agent's characteristics. As we will put all agents' names and profiles into gpt-4 and let it choose the best agents for us, each agent's profile should be simple and capable. We will further complete the selected agents' system message based on the agents' names and the short profile as in the previous `build`.\n",
    "\n",
    "First, we define a prompt template and a list of agents' name:"
   ],
   "metadata": {
    "collapsed": false
   },
   "id": "5fb3db8885dd6ee6"
  },
  {
   "cell_type": "code",
   "execution_count": 3,
   "id": "68315f6ec912c58a",
   "metadata": {
    "collapsed": false,
    "ExecuteTime": {
     "end_time": "2023-12-23T07:39:03.317527600Z",
     "start_time": "2023-12-23T07:39:03.276859600Z"
    }
   },
   "outputs": [],
   "source": [
    "AGENT_SYS_MSG_PROMPT = \"\"\"Considering the following position:\n",
    "\n",
    "POSITION: {position}\n",
    "\n",
    "What requirements should this position be satisfied?\n",
    "\n",
    "Hint:\n",
    "# Your answer should be in one sentence.\n",
    "# Your answer should be natural, starting from \"As a ...\".\n",
    "# People with the above position need to complete a task given by a leader or colleague.\n",
    "# People will work in a group chat, solving tasks with other people with different jobs.\n",
    "# The modified requirement should not contain the code interpreter skill.\n",
    "# Coding skill is limited to Python.\n",
    "\"\"\"\n",
    "\n",
    "position_list = [\n",
    "    \"Environmental_Scientist\",\n",
    "    \"Astronomer\",\n",
    "    \"Software_Developer\",\n",
    "    \"Data_Analyst\",\n",
    "    \"Journalist\",\n",
    "    \"Teacher\",\n",
    "    \"Lawyer\",\n",
    "    \"Programmer\",\n",
    "    \"Accountant\",\n",
    "    \"Mathematician\",\n",
    "    \"Physicist\",\n",
    "    \"Biologist\",\n",
    "    \"Chemist\",\n",
    "    \"Statistician\",\n",
    "    \"IT_Specialist\",\n",
    "    \"Cybersecurity_Expert\",\n",
    "    \"Artificial_Intelligence_Engineer\",\n",
    "    \"Financial_Analyst\"\n",
    "]"
   ]
  },
  {
   "cell_type": "markdown",
   "source": [
    "Then we can prompt a `gpt-4` model to generate each agent's profile:"
   ],
   "metadata": {
    "collapsed": false
   },
   "id": "72b8e7d9d334a5c2"
  },
  {
   "cell_type": "code",
   "execution_count": 4,
   "outputs": [],
   "source": [
    "config_list = autogen.config_list_from_json(config_path, filter_dict={\"model\": ['gpt-4-1106-preview']})\n",
    "build_manager = autogen.OpenAIWrapper(config_list=config_list)\n",
    "sys_msg_list = []\n",
    "\n",
    "for pos in position_list:\n",
    "    resp_agent_sys_msg = build_manager.create(\n",
    "                            messages=[\n",
    "                                {\n",
    "                                    \"role\": \"user\",\n",
    "                                    \"content\": AGENT_SYS_MSG_PROMPT.format(\n",
    "                                        position=pos,\n",
    "                                        default_sys_msg=autogen.AssistantAgent.DEFAULT_SYSTEM_MESSAGE,\n",
    "                                    ),\n",
    "                                }\n",
    "                            ]\n",
    "                        ).choices[0].message.content\n",
    "    sys_msg_list.append({\"name\": pos, \"profile\": resp_agent_sys_msg})"
   ],
   "metadata": {
    "collapsed": false,
    "ExecuteTime": {
     "end_time": "2023-12-23T07:40:01.703372Z",
     "start_time": "2023-12-23T07:39:04.472589200Z"
    }
   },
   "id": "8fbfef9268fc5191"
  },
  {
   "cell_type": "markdown",
   "source": [
    "The generated profile will have the following format:"
   ],
   "metadata": {
    "collapsed": false
   },
   "id": "9e26c6db4befacc5"
  },
  {
   "cell_type": "code",
   "execution_count": 5,
   "outputs": [
    {
     "data": {
      "text/plain": "[{'name': 'Environmental_Scientist',\n  'profile': 'As an Environmental Scientist, the candidate should possess a strong background in environmental science, demonstrate the ability to effectively collaborate with a diverse team in a group chat to solve tasks, and have proficiency in Python for data analysis, without the need for code interpretation skills.'},\n {'name': 'Astronomer',\n  'profile': 'As an astronomer required to work collaboratively in a group chat setting, the candidate must possess strong proficiency in Python for data analysis and research purposes, alongside the ability to efficiently complete tasks assigned by leadership or colleagues without the need for code interpretation skills.'},\n {'name': 'Software_Developer',\n  'profile': 'As a Software Developer for this position, you must be able to work collaboratively in a group chat environment to complete tasks assigned by a leader or colleague, primarily using Python programming expertise, excluding the need for code interpretation skills.'},\n {'name': 'Data_Analyst',\n  'profile': 'As a Data Analyst for this position, you must be adept at analyzing data using Python, completing tasks assigned by leaders or colleagues, and collaboratively solving problems in a group chat setting with professionals of various roles.'},\n {'name': 'Journalist',\n  'profile': 'As a journalist in this position, you must possess strong collaboration and communication abilities to efficiently complete tasks assigned by leaders or colleagues within a group chat environment, without the need for code interpretation skills, although a basic understanding of Python is preferred.'},\n {'name': 'Teacher',\n  'profile': \"As a teacher, you need to possess a bachelor's degree in education or a related field, have a valid teaching certificate, be able to complete assignments provided by supervisors or colleagues, work collaboratively in group chats with professionals from various fields, and have a basic understanding of Python for educational purposes, excluding the need to interpret code.\"},\n {'name': 'Lawyer',\n  'profile': 'As a lawyer in this position, you must possess a Juris Doctor degree, be licensed to practice law, have strong analytical and communication skills, be able to complete tasks assigned by leaders or colleagues, and collaborate effectively in group chat environments with professionals across various disciplines, while having a basic understanding of Python for task-related purposes, excluding code interpretation.'},\n {'name': 'Programmer',\n  'profile': 'As a Programmer for this position, you should be proficient in Python, able to effectively collaborate and solve problems within a group chat environment, and complete tasks assigned by leaders or colleagues without requiring expertise in code interpretation.'},\n {'name': 'Accountant',\n  'profile': 'As an accountant in this position, one should possess a strong proficiency in accounting principles, the ability to effectively collaborate within team environments, such as group chats, to solve tasks, and have a basic understanding of Python for limited coding tasks, all while being able to follow directives from leaders and colleagues.'},\n {'name': 'Mathematician',\n  'profile': 'As a mathematician in this position, you should possess an advanced degree in mathematics, excel at collaborating and communicating within a group chat to solve complex tasks alongside professionals from various disciplines, and have proficiency in Python for any required computational work.'},\n {'name': 'Physicist',\n  'profile': \"As a physicist for this position, one must hold a strong foundation in physics principles, possess a minimum of a master's degree in physics or related fields, demonstrate proficiency in Python for task-specific computations, be willing to collaborate and solve problems within a multidisciplinary group chat, and not be required to interpret code from languages other than Python.\"},\n {'name': 'Biologist',\n  'profile': 'As a biologist for this position, one must hold a degree in biology or a related field, have proficiency in Python for data analysis, be able to complete tasks assigned by leaders or colleagues, and collaborate effectively in a group chat with professionals from various disciplines.'},\n {'name': 'Chemist',\n  'profile': 'As a chemist, one should possess a degree in chemistry or a related field, have strong analytical skills, work collaboratively within a team setting to complete tasks assigned by supervisors or peers, and have a basic proficiency in Python for any necessary data analysis.'},\n {'name': 'Statistician',\n  'profile': 'As a Statistician, the applicant should possess a strong background in statistics or mathematics, proficiency in Python for data analysis, the ability to work collaboratively in a team setting through group chats, and readiness to tackle and solve tasks delegated by supervisors or peers.'},\n {'name': 'IT_Specialist',\n  'profile': 'As an IT Specialist, you should possess strong problem-solving skills, be able to effectively collaborate within a team setting through group chats, complete tasks assigned by leaders or colleagues, and have proficiency in Python programming, excluding the need for code interpretation expertise.'},\n {'name': 'Cybersecurity_Expert',\n  'profile': 'As a Cybersecurity Expert, you must have the ability to collaborate in a group chat, completing tasks assigned by leaders or peers, and possess proficiency in Python, albeit without the need for code interpretation skills.'},\n {'name': 'Artificial_Intelligence_Engineer',\n  'profile': 'As an Artificial Intelligence Engineer, you should be adept in Python, able to fulfill tasks assigned by leaders or colleagues, and capable of collaboratively solving problems in a group chat with diverse professionals.'},\n {'name': 'Financial_Analyst',\n  'profile': 'As a Financial Analyst, one must possess strong analytical and problem-solving abilities, be proficient in Python for data analysis, have excellent communication skills to collaborate effectively in group chats, and be capable of completing assignments delegated by leaders or colleagues.'}]"
     },
     "execution_count": 5,
     "metadata": {},
     "output_type": "execute_result"
    }
   ],
   "source": [
    "sys_msg_list"
   ],
   "metadata": {
    "collapsed": false,
    "ExecuteTime": {
     "end_time": "2023-12-23T07:40:01.712399300Z",
     "start_time": "2023-12-23T07:40:01.707400200Z"
    }
   },
   "id": "8ede1d7088eb183d"
  },
  {
   "cell_type": "markdown",
   "source": [
    "We can save the generated agents' information into a json file."
   ],
   "metadata": {
    "collapsed": false
   },
   "id": "256dd32b03a7a172"
  },
  {
   "cell_type": "code",
   "execution_count": 6,
   "outputs": [],
   "source": [
    "import json\n",
    "\n",
    "json.dump(sys_msg_list, open('./agent_library_example.json', 'w'), indent=4)"
   ],
   "metadata": {
    "collapsed": false,
    "ExecuteTime": {
     "end_time": "2023-12-23T07:40:01.750855900Z",
     "start_time": "2023-12-23T07:40:01.710399600Z"
    }
   },
   "id": "53111125938845cf"
  },
  {
   "cell_type": "markdown",
   "source": [
    "## Build agents from library\n",
    "We will introduce how to build agents from the generated library below. As in the previous `build`, we also need to specify a `building_task` that lets the build manager know which agents should be selected from the library according to the task. \n",
    "\n",
    "We also need to specify a library_path. Here, we use the previously saved path as the library path."
   ],
   "metadata": {
    "collapsed": false
   },
   "id": "cfd883b79a3bd932"
  },
  {
   "cell_type": "code",
   "execution_count": 8,
   "outputs": [],
   "source": [
    "library_path = './agent_library_example.json'\n",
    "building_task = \"Find a paper on arxiv by programming, and analyze its application in some domain. For example, find a recent paper about gpt-4 on arxiv and find its potential applications in software.\""
   ],
   "metadata": {
    "collapsed": false,
    "ExecuteTime": {
     "end_time": "2023-12-23T07:40:01.752918500Z",
     "start_time": "2023-12-23T07:40:01.735461Z"
    }
   },
   "id": "8963a8709c8e92e2"
  },
  {
   "cell_type": "markdown",
   "source": [
    "Then, we can call the `build_from_library` from the AgentBuilder to generate a list of agents from the library and let them complete the user's `execution_task` in a group chat."
   ],
   "metadata": {
    "collapsed": false
   },
   "id": "72656a8d0c1a9b12"
  },
  {
   "cell_type": "code",
   "execution_count": 10,
   "outputs": [
    {
     "name": "stdout",
     "output_type": "stream",
     "text": [
      "Looking for suitable agents in ./agent_library_example.json...\n",
      "['Software_Developer', 'Programmer', 'Artificial_Intelligence_Engineer'] are selected.\n",
      "Preparing configuration for Software_Developer...\n",
      "Preparing configuration for Programmer...\n",
      "Preparing configuration for Artificial_Intelligence_Engineer...\n",
      "Creating agent Software_Developer with backbone gpt-4-1106-preview...\n",
      "Creating agent Programmer with backbone gpt-4-1106-preview...\n",
      "Creating agent Artificial_Intelligence_Engineer with backbone gpt-4-1106-preview...\n",
      "Adding user console proxy...\n",
      "\u001B[33mUser_console_and_Python_code_interpreter\u001B[0m (to chat_manager):\n",
      "Find a recent paper about explainable AI on arxiv and find its potential applications in medical.\n",
      "\n",
      "--------------------------------------------------------------------------------\n",
      "\u001B[33mArtificial_Intelligence_Engineer\u001B[0m (to chat_manager):\n",
      "\n",
      "To find a recent paper about explainable AI on arXiv and explore its potential applications in the medical field, I will perform the following steps:\n",
      "\n",
      "1. Write a Python script to interact with the arXiv API to search for recent papers related to explainable AI.\n",
      "2. Analyze the abstract and content of the retrieved paper to understand its implications and potential applications in the medical domain.\n",
      "3. Discuss the findings with the team.\n",
      "\n",
      "Let's start with step 1. Below is a Python script that uses the `arxiv` library to search for papers related to explainable AI. If you don't have the `arxiv` library installed, you can install it using `pip install arxiv`.\n",
      "\n",
      "```python\n",
      "import arxiv\n",
      "\n",
      "# Define the search query and parameters\n",
      "search_query = 'cat:cs.AI AND ti:explainable'\n",
      "max_results = 5\n",
      "sort_by = arxiv.SortCriterion.SubmittedDate\n",
      "\n",
      "# Search for papers on arXiv\n",
      "search = arxiv.Search(\n",
      "  query=search_query,\n",
      "  max_results=max_results,\n",
      "  sort_by=sort_by,\n",
      "  sort_order=arxiv.SortOrder.Descending\n",
      ")\n",
      "\n",
      "# Fetch the results\n",
      "papers = list(search.results())\n",
      "\n",
      "# Print out the title and summary of the most recent paper\n",
      "if papers:\n",
      "    recent_paper = papers[0]\n",
      "    print(f\"Title: {recent_paper.title}\\n\")\n",
      "    print(f\"Authors: {', '.join(author.name for author in recent_paper.authors)}\\n\")\n",
      "    print(f\"Abstract: {recent_paper.summary}\\n\")\n",
      "    print(f\"Published: {recent_paper.published}\\n\")\n",
      "    print(f\"Link: {recent_paper.entry_id}\\n\")\n",
      "else:\n",
      "    print(\"No papers found on the topic of explainable AI.\")\n",
      "```\n",
      "\n",
      "Please note that this script is meant to be run in a Python environment where you have the necessary permissions and capabilities to install and use external libraries. If you are ready to proceed, you can run this script in your Python environment to retrieve the most recent papers on explainable AI from arXiv.\n",
      "\n",
      "Once we have the paper, we can move on to step 2 and analyze its content for potential medical applications. Since I cannot execute Python code directly, you would need to run the script on your local machine or development environment. After running the script, you can share the paper's title and abstract here, and we can discuss its potential applications in the medical field.\n",
      "\n",
      "--------------------------------------------------------------------------------\n",
      "\u001B[31m\n",
      ">>>>>>>> EXECUTING CODE BLOCK 0 (inferred language is python)...\u001B[0m\n",
      "\u001B[33mUser_console_and_Python_code_interpreter\u001B[0m (to chat_manager):\n",
      "\n",
      "exitcode: 0 (execution succeeded)\n",
      "Code output: \n",
      "Title: Transparency and Privacy: The Role of Explainable AI and Federated Learning in Financial Fraud Detection\n",
      "\n",
      "Authors: Tomisin Awosika, Raj Mani Shukla, Bernardi Pranggono\n",
      "\n",
      "Abstract: Fraudulent transactions and how to detect them remain a significant problem\n",
      "for financial institutions around the world. The need for advanced fraud\n",
      "detection systems to safeguard assets and maintain customer trust is paramount\n",
      "for financial institutions, but some factors make the development of effective\n",
      "and efficient fraud detection systems a challenge. One of such factors is the\n",
      "fact that fraudulent transactions are rare and that many transaction datasets\n",
      "are imbalanced; that is, there are fewer significant samples of fraudulent\n",
      "transactions than legitimate ones. This data imbalance can affect the\n",
      "performance or reliability of the fraud detection model. Moreover, due to the\n",
      "data privacy laws that all financial institutions are subject to follow,\n",
      "sharing customer data to facilitate a higher-performing centralized model is\n",
      "impossible. Furthermore, the fraud detection technique should be transparent so\n",
      "that it does not affect the user experience. Hence, this research introduces a\n",
      "novel approach using Federated Learning (FL) and Explainable AI (XAI) to\n",
      "address these challenges. FL enables financial institutions to collaboratively\n",
      "train a model to detect fraudulent transactions without directly sharing\n",
      "customer data, thereby preserving data privacy and confidentiality. Meanwhile,\n",
      "the integration of XAI ensures that the predictions made by the model can be\n",
      "understood and interpreted by human experts, adding a layer of transparency and\n",
      "trust to the system. Experimental results, based on realistic transaction\n",
      "datasets, reveal that the FL-based fraud detection system consistently\n",
      "demonstrates high performance metrics. This study grounds FL's potential as an\n",
      "effective and privacy-preserving tool in the fight against fraud.\n",
      "\n",
      "Published: 2023-12-20 18:26:59+00:00\n",
      "\n",
      "Link: http://arxiv.org/abs/2312.13334v1\n",
      "\n",
      "\n",
      "--------------------------------------------------------------------------------\n",
      "\u001B[33mArtificial_Intelligence_Engineer\u001B[0m (to chat_manager):\n",
      "\n",
      "The paper you've found, titled \"Transparency and Privacy: The Role of Explainable AI and Federated Learning in Financial Fraud Detection,\" discusses the use of Explainable AI (XAI) and Federated Learning (FL) in the context of financial fraud detection. While the paper's primary focus is on the financial industry, the concepts of XAI and FL can be applied to the medical field as well.\n",
      "\n",
      "Potential applications of XAI and FL in the medical field include:\n",
      "\n",
      "1. **Patient Data Privacy**: Similar to financial institutions, healthcare providers must adhere to strict privacy regulations like HIPAA in the United States. FL can enable different healthcare institutions to collaboratively train machine learning models on patient data without sharing the data itself, thus preserving patient privacy.\n",
      "\n",
      "2. **Disease Diagnosis**: XAI can help in developing transparent AI systems that assist doctors in diagnosing diseases by providing interpretable predictions. This transparency is crucial for gaining the trust of medical professionals and patients when AI is used to support decision-making in diagnoses.\n",
      "\n",
      "3. **Personalized Medicine**: By using FL, medical researchers can develop more generalized and robust models for personalized medicine, as they can learn from a wide range of patient data across different institutions without compromising privacy.\n",
      "\n",
      "4. **Fraud Detection in Healthcare**: The approach discussed in the paper can be adapted to detect fraudulent activities within healthcare, such as insurance fraud or prescription fraud, by training models across various healthcare providers.\n",
      "\n",
      "5. **Clinical Trial Research**: FL can facilitate the analysis of clinical trial data from multiple sources, enhancing the development of new drugs and treatments while maintaining the confidentiality of trial participants.\n",
      "\n",
      "6. **Predictive Analytics**: XAI can improve predictive analytics in healthcare by providing insights into the risk factors and predictors of patient outcomes, making it easier for clinicians to understand and trust the predictions made by AI models.\n",
      "\n",
      "7. **Medical Imaging**: In medical imaging, XAI can help radiologists and other specialists understand the reasoning behind AI-generated insights, which can be critical for early detection and treatment planning.\n",
      "\n",
      "The integration of XAI ensures that the AI's decision-making process in these applications is transparent, which is essential for clinical acceptance. Meanwhile, FL addresses the challenge of leveraging large-scale, diverse datasets while respecting privacy concerns, which is particularly relevant in the medical field due to the sensitive nature of health data.\n",
      "\n",
      "To discuss these findings with your team, you can highlight the parallels between the financial and medical domains in terms of data privacy and the need for transparency in AI systems. The paper's approach can be a starting point for developing similar systems in healthcare that benefit from the privacy-preserving and explainable nature of the technologies discussed.\n",
      "\n",
      "--------------------------------------------------------------------------------\n",
      "\u001B[33mUser_console_and_Python_code_interpreter\u001B[0m (to chat_manager):\n",
      "\n",
      "\n",
      "--------------------------------------------------------------------------------\n",
      "\u001B[33mSoftware_Developer\u001B[0m (to chat_manager):\n",
      "\n",
      "TERMINATE\n",
      "\n",
      "--------------------------------------------------------------------------------\n",
      "All agents have been cleared.\n"
     ]
    }
   ],
   "source": [
    "from autogen.agentchat.contrib.agent_builder import AgentBuilder\n",
    "\n",
    "new_builder = AgentBuilder(config_path=config_path, builder_model='gpt-4-1106-preview', agent_model='gpt-4-1106-preview')\n",
    "agent_list, _ = new_builder.build_from_library(building_task, library_path, default_llm_config)\n",
    "start_task(\n",
    "    execution_task=\"Find a recent paper about explainable AI on arxiv and find its potential applications in medical.\",\n",
    "    agent_list=agent_list,\n",
    "    llm_config=default_llm_config\n",
    ")\n",
    "new_builder.clear_all_agents()"
   ],
   "metadata": {
    "collapsed": false,
    "ExecuteTime": {
     "end_time": "2023-12-23T07:46:02.075542200Z",
     "start_time": "2023-12-23T07:43:55.489042900Z"
    }
   },
   "id": "5c669b76b2c9b750"
  },
  {
   "cell_type": "code",
   "execution_count": null,
   "outputs": [],
   "source": [],
   "metadata": {
    "collapsed": false
   },
   "id": "66eb27ec2688b29d"
  }
 ],
 "metadata": {
  "kernelspec": {
   "display_name": "Python 3 (ipykernel)",
   "language": "python",
   "name": "python3"
  },
  "language_info": {
   "codemirror_mode": {
    "name": "ipython",
    "version": 3
   },
   "file_extension": ".py",
   "mimetype": "text/x-python",
   "name": "python",
   "nbconvert_exporter": "python",
   "pygments_lexer": "ipython3",
   "version": "3.10.11"
  }
 },
 "nbformat": 4,
 "nbformat_minor": 5
}
