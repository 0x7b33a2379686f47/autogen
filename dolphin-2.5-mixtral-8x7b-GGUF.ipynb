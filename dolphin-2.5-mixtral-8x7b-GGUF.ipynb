{
  "nbformat": 4,
  "nbformat_minor": 0,
  "metadata": {
    "colab": {
      "provenance": [],
      "collapsed_sections": [
        "qcrVpjurqGnZ"
      ],
      "machine_shape": "hm",
      "gpuType": "V100",
      "authorship_tag": "ABX9TyN4BW4sWSQlCeeAZuXYJ4Wj",
      "include_colab_link": true
    },
    "kernelspec": {
      "name": "python3",
      "display_name": "Python 3"
    },
    "language_info": {
      "name": "python"
    },
    "accelerator": "GPU"
  },
  "cells": [
    {
      "cell_type": "markdown",
      "metadata": {
        "id": "view-in-github",
        "colab_type": "text"
      },
      "source": [
        "<a href=\"https://colab.research.google.com/github/0x7b33a2379686f47/autogen/blob/main/dolphin-2.5-mixtral-8x7b-GGUF.ipynb\" target=\"_parent\"><img src=\"https://colab.research.google.com/assets/colab-badge.svg\" alt=\"Open In Colab\"/></a>"
      ]
    },
    {
      "cell_type": "markdown",
      "source": [
        "## drive_mounting_v0.0.5\n"
      ],
      "metadata": {
        "id": "9gnaHk0gqBLE"
      }
    },
    {
      "cell_type": "code",
      "execution_count": 1,
      "metadata": {
        "cellView": "code",
        "id": "JItyOytDl64I",
        "colab": {
          "base_uri": "https://localhost:8080/",
          "height": 738
        },
        "outputId": "eba67311-21b0-425d-a721-bcd914598499"
      },
      "outputs": [
        {
          "output_type": "stream",
          "name": "stdout",
          "text": [
            "Mounted at /volumes/drive/Shareddrives/disk1/\n"
          ]
        },
        {
          "output_type": "error",
          "ename": "OSError",
          "evalue": "[Errno 95] Operation not supported: '/volumes/drive/Shareddrives/disk1/dolphin-2.5-mixtral-8x7b'",
          "traceback": [
            "\u001b[0;31m---------------------------------------------------------------------------\u001b[0m",
            "\u001b[0;31mOSError\u001b[0m                                   Traceback (most recent call last)",
            "\u001b[0;32m<ipython-input-1-d0f63ca99959>\u001b[0m in \u001b[0;36m<cell line: 70>\u001b[0;34m()\u001b[0m\n\u001b[1;32m     68\u001b[0m \u001b[0;34m\u001b[0m\u001b[0m\n\u001b[1;32m     69\u001b[0m \u001b[0;31m# Run the main function with the provided configuration\u001b[0m\u001b[0;34m\u001b[0m\u001b[0;34m\u001b[0m\u001b[0m\n\u001b[0;32m---> 70\u001b[0;31m \u001b[0mmain\u001b[0m\u001b[0;34m(\u001b[0m\u001b[0mconfig\u001b[0m\u001b[0;34m)\u001b[0m\u001b[0;34m\u001b[0m\u001b[0;34m\u001b[0m\u001b[0m\n\u001b[0m",
            "\u001b[0;32m<ipython-input-1-d0f63ca99959>\u001b[0m in \u001b[0;36mmain\u001b[0;34m(config)\u001b[0m\n\u001b[1;32m     62\u001b[0m \u001b[0;34m\u001b[0m\u001b[0m\n\u001b[1;32m     63\u001b[0m     \u001b[0;31m# Create symbolic links\u001b[0m\u001b[0;34m\u001b[0m\u001b[0;34m\u001b[0m\u001b[0m\n\u001b[0;32m---> 64\u001b[0;31m     \u001b[0mcreate_symbolic_links\u001b[0m\u001b[0;34m(\u001b[0m\u001b[0mshared_drive_path\u001b[0m\u001b[0;34m,\u001b[0m \u001b[0mmount_paths\u001b[0m\u001b[0;34m)\u001b[0m\u001b[0;34m\u001b[0m\u001b[0;34m\u001b[0m\u001b[0m\n\u001b[0m\u001b[1;32m     65\u001b[0m \u001b[0;34m\u001b[0m\u001b[0m\n\u001b[1;32m     66\u001b[0m     \u001b[0;31m# Change to the content directory\u001b[0m\u001b[0;34m\u001b[0m\u001b[0;34m\u001b[0m\u001b[0m\n",
            "\u001b[0;32m<ipython-input-1-d0f63ca99959>\u001b[0m in \u001b[0;36mcreate_symbolic_links\u001b[0;34m(shared_drive_path, mount_paths)\u001b[0m\n\u001b[1;32m     35\u001b[0m         \u001b[0;31m# Create target path in Drive if it does not exist\u001b[0m\u001b[0;34m\u001b[0m\u001b[0;34m\u001b[0m\u001b[0m\n\u001b[1;32m     36\u001b[0m         \u001b[0;32mif\u001b[0m \u001b[0;32mnot\u001b[0m \u001b[0mos\u001b[0m\u001b[0;34m.\u001b[0m\u001b[0mpath\u001b[0m\u001b[0;34m.\u001b[0m\u001b[0mexists\u001b[0m\u001b[0;34m(\u001b[0m\u001b[0mtemp_path\u001b[0m\u001b[0;34m)\u001b[0m\u001b[0;34m:\u001b[0m\u001b[0;34m\u001b[0m\u001b[0;34m\u001b[0m\u001b[0m\n\u001b[0;32m---> 37\u001b[0;31m             \u001b[0mos\u001b[0m\u001b[0;34m.\u001b[0m\u001b[0mmakedirs\u001b[0m\u001b[0;34m(\u001b[0m\u001b[0mtemp_path\u001b[0m\u001b[0;34m,\u001b[0m \u001b[0mexist_ok\u001b[0m\u001b[0;34m=\u001b[0m\u001b[0;32mTrue\u001b[0m\u001b[0;34m)\u001b[0m\u001b[0;34m\u001b[0m\u001b[0;34m\u001b[0m\u001b[0m\n\u001b[0m\u001b[1;32m     38\u001b[0m \u001b[0;34m\u001b[0m\u001b[0m\n\u001b[1;32m     39\u001b[0m         \u001b[0;31m# Create a new symbolic link\u001b[0m\u001b[0;34m\u001b[0m\u001b[0;34m\u001b[0m\u001b[0m\n",
            "\u001b[0;32m/usr/lib/python3.10/os.py\u001b[0m in \u001b[0;36mmakedirs\u001b[0;34m(name, mode, exist_ok)\u001b[0m\n\u001b[1;32m    213\u001b[0m     \u001b[0;32mif\u001b[0m \u001b[0mhead\u001b[0m \u001b[0;32mand\u001b[0m \u001b[0mtail\u001b[0m \u001b[0;32mand\u001b[0m \u001b[0;32mnot\u001b[0m \u001b[0mpath\u001b[0m\u001b[0;34m.\u001b[0m\u001b[0mexists\u001b[0m\u001b[0;34m(\u001b[0m\u001b[0mhead\u001b[0m\u001b[0;34m)\u001b[0m\u001b[0;34m:\u001b[0m\u001b[0;34m\u001b[0m\u001b[0;34m\u001b[0m\u001b[0m\n\u001b[1;32m    214\u001b[0m         \u001b[0;32mtry\u001b[0m\u001b[0;34m:\u001b[0m\u001b[0;34m\u001b[0m\u001b[0;34m\u001b[0m\u001b[0m\n\u001b[0;32m--> 215\u001b[0;31m             \u001b[0mmakedirs\u001b[0m\u001b[0;34m(\u001b[0m\u001b[0mhead\u001b[0m\u001b[0;34m,\u001b[0m \u001b[0mexist_ok\u001b[0m\u001b[0;34m=\u001b[0m\u001b[0mexist_ok\u001b[0m\u001b[0;34m)\u001b[0m\u001b[0;34m\u001b[0m\u001b[0;34m\u001b[0m\u001b[0m\n\u001b[0m\u001b[1;32m    216\u001b[0m         \u001b[0;32mexcept\u001b[0m \u001b[0mFileExistsError\u001b[0m\u001b[0;34m:\u001b[0m\u001b[0;34m\u001b[0m\u001b[0;34m\u001b[0m\u001b[0m\n\u001b[1;32m    217\u001b[0m             \u001b[0;31m# Defeats race condition when another thread created the path\u001b[0m\u001b[0;34m\u001b[0m\u001b[0;34m\u001b[0m\u001b[0m\n",
            "\u001b[0;32m/usr/lib/python3.10/os.py\u001b[0m in \u001b[0;36mmakedirs\u001b[0;34m(name, mode, exist_ok)\u001b[0m\n\u001b[1;32m    223\u001b[0m             \u001b[0;32mreturn\u001b[0m\u001b[0;34m\u001b[0m\u001b[0;34m\u001b[0m\u001b[0m\n\u001b[1;32m    224\u001b[0m     \u001b[0;32mtry\u001b[0m\u001b[0;34m:\u001b[0m\u001b[0;34m\u001b[0m\u001b[0;34m\u001b[0m\u001b[0m\n\u001b[0;32m--> 225\u001b[0;31m         \u001b[0mmkdir\u001b[0m\u001b[0;34m(\u001b[0m\u001b[0mname\u001b[0m\u001b[0;34m,\u001b[0m \u001b[0mmode\u001b[0m\u001b[0;34m)\u001b[0m\u001b[0;34m\u001b[0m\u001b[0;34m\u001b[0m\u001b[0m\n\u001b[0m\u001b[1;32m    226\u001b[0m     \u001b[0;32mexcept\u001b[0m \u001b[0mOSError\u001b[0m\u001b[0;34m:\u001b[0m\u001b[0;34m\u001b[0m\u001b[0;34m\u001b[0m\u001b[0m\n\u001b[1;32m    227\u001b[0m         \u001b[0;31m# Cannot rely on checking for EEXIST, since the operating system\u001b[0m\u001b[0;34m\u001b[0m\u001b[0;34m\u001b[0m\u001b[0m\n",
            "\u001b[0;31mOSError\u001b[0m: [Errno 95] Operation not supported: '/volumes/drive/Shareddrives/disk1/dolphin-2.5-mixtral-8x7b'"
          ]
        }
      ],
      "source": [
        "# Import necessary libraries\n",
        "import os\n",
        "import shutil\n",
        "from google.colab import drive\n",
        "\n",
        "# JSON configuration for setting up the environment\n",
        "json_config = {\n",
        "    \"instance_name\": \"dolphin-2.5-mixtral-8x7b\",\n",
        "    \"drive_base\": \"/volumes/drive/Shareddrives/disk1/\",\n",
        "    \"mount_paths\": [\n",
        "        \"/content\",\n",
        "        \"/root/.ssh\",\n",
        "        \"/root/.ollama\",\n",
        "        \"/root/.cache/huggingface\",\n",
        "        \"/root/.vs-code-server\"\n",
        "    ]\n",
        "}\n",
        "\n",
        "# Load configuration from the provided JSON\n",
        "config = json_config\n",
        "\n",
        "# Function to handle the creation of symbolic links\n",
        "def create_symbolic_links(shared_drive_path, mount_paths):\n",
        "    for path in mount_paths:\n",
        "        original_path = f'/{path}'\n",
        "        temp_path = os.path.join(shared_drive_path, path.lstrip('/'))\n",
        "\n",
        "        # Remove existing symbolic link or directory\n",
        "        if os.path.islink(original_path) or os.path.exists(original_path):\n",
        "            if os.path.isdir(original_path) and not os.path.islink(original_path):\n",
        "                shutil.rmtree(original_path)\n",
        "            else:\n",
        "                os.unlink(original_path)\n",
        "\n",
        "        # Create target path in Drive if it does not exist\n",
        "        if not os.path.exists(temp_path):\n",
        "            os.makedirs(temp_path, exist_ok=True)\n",
        "\n",
        "        # Create a new symbolic link\n",
        "        os.symlink(temp_path, original_path)\n",
        "\n",
        "        # Create and write to the .linked file in the target path\n",
        "        linked_file_path = os.path.join(temp_path, '.linked')\n",
        "        with open(linked_file_path, 'w') as linked_file:\n",
        "            linked_file.write(original_path)\n",
        "\n",
        "# Main execution block\n",
        "def main(config):\n",
        "    # Extract variables from the config\n",
        "    instance_name = config['instance_name']\n",
        "    drive_base = config['drive_base']\n",
        "    mount_paths = config['mount_paths']\n",
        "\n",
        "    # Drive base directory setup\n",
        "    os.makedirs(drive_base, exist_ok=True)\n",
        "\n",
        "    # Mount Google Drive\n",
        "    drive.mount(drive_base, force_remount=True)\n",
        "\n",
        "    # Shared drive path\n",
        "    shared_drive_path = os.path.join(drive_base, instance_name)\n",
        "\n",
        "    # Create symbolic links\n",
        "    create_symbolic_links(shared_drive_path, mount_paths)\n",
        "\n",
        "    # Change to the content directory\n",
        "    os.chdir('/content')\n",
        "\n",
        "# Run the main function with the provided configuration\n",
        "main(config)\n"
      ]
    },
    {
      "cell_type": "markdown",
      "source": [
        "## Argo SSH"
      ],
      "metadata": {
        "id": "RgVhDMHcsHfB"
      }
    },
    {
      "cell_type": "code",
      "execution_count": null,
      "metadata": {
        "cellView": "form",
        "colab": {
          "base_uri": "https://localhost:8080/"
        },
        "id": "63VGRozrsHfC",
        "outputId": "8bfdac49-3a51-4919-e690-669f7c067855"
      },
      "outputs": [
        {
          "output_type": "stream",
          "name": "stdout",
          "text": [
            "[Errno 2] No such file or directory: '/content'\n",
            "/content\n",
            "shell-init: error retrieving current directory: getcwd: cannot access parent directories: No such file or directory\n",
            "chmod: cannot access 'cloudflared': No such file or directory\n",
            "shell-init: error retrieving current directory: getcwd: cannot access parent directories: No such file or directory\n",
            "shell-init: error retrieving current directory: getcwd: cannot access parent directories: No such file or directory\n",
            "The folder you are executing pip from can no longer be found.\n"
          ]
        },
        {
          "output_type": "stream",
          "name": "stderr",
          "text": [
            "Custom TB Handler failed, unregistering\n"
          ]
        }
      ],
      "source": [
        "\n",
        "%cd /content\n",
        "!chmod +x cloudflared\n",
        "!pip -q install colab_ssh\n",
        "from colab_ssh import launch_ssh_cloudflared\n",
        "passwd=\"asdasd\" #@param\n",
        "launch_ssh_cloudflared(password=passwd)"
      ]
    }
  ]
}